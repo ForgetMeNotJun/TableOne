{
 "cells": [
  {
   "cell_type": "code",
   "execution_count": 5,
   "metadata": {},
   "outputs": [],
   "source": [
    "import pandas as pd\n",
    "from scipy import stats"
   ]
  },
  {
   "cell_type": "code",
   "execution_count": 6,
   "metadata": {},
   "outputs": [
    {
     "data": {
      "text/html": [
       "<div>\n",
       "<style scoped>\n",
       "    .dataframe tbody tr th:only-of-type {\n",
       "        vertical-align: middle;\n",
       "    }\n",
       "\n",
       "    .dataframe tbody tr th {\n",
       "        vertical-align: top;\n",
       "    }\n",
       "\n",
       "    .dataframe thead th {\n",
       "        text-align: right;\n",
       "    }\n",
       "</style>\n",
       "<table border=\"1\" class=\"dataframe\">\n",
       "  <thead>\n",
       "    <tr style=\"text-align: right;\">\n",
       "      <th></th>\n",
       "      <th>Unnamed: 0</th>\n",
       "      <th>overall</th>\n",
       "      <th>exposure</th>\n",
       "      <th>non-exposure</th>\n",
       "    </tr>\n",
       "  </thead>\n",
       "  <tbody>\n",
       "    <tr>\n",
       "      <th>0</th>\n",
       "      <td>age</td>\n",
       "      <td>68.0 [57.0-79.0]</td>\n",
       "      <td>72.0 [62.0-82.0]</td>\n",
       "      <td>67.0 [57.0-79.0]</td>\n",
       "    </tr>\n",
       "    <tr>\n",
       "      <th>1</th>\n",
       "      <td>gender</td>\n",
       "      <td>1487 (56.1%)</td>\n",
       "      <td>225 (58.4%)</td>\n",
       "      <td>1262 (55.7%)</td>\n",
       "    </tr>\n",
       "  </tbody>\n",
       "</table>\n",
       "</div>"
      ],
      "text/plain": [
       "  Unnamed: 0           overall          exposure      non-exposure\n",
       "0        age  68.0 [57.0-79.0]  72.0 [62.0-82.0]  67.0 [57.0-79.0]\n",
       "1     gender      1487 (56.1%)       225 (58.4%)      1262 (55.7%)"
      ]
     },
     "execution_count": 6,
     "metadata": {},
     "output_type": "execute_result"
    }
   ],
   "source": [
    "df = pd.read_csv('table.csv')\n",
    "df.head()"
   ]
  },
  {
   "cell_type": "code",
   "execution_count": 7,
   "metadata": {},
   "outputs": [
    {
     "data": {
      "text/html": [
       "<div>\n",
       "<style scoped>\n",
       "    .dataframe tbody tr th:only-of-type {\n",
       "        vertical-align: middle;\n",
       "    }\n",
       "\n",
       "    .dataframe tbody tr th {\n",
       "        vertical-align: top;\n",
       "    }\n",
       "\n",
       "    .dataframe thead th {\n",
       "        text-align: right;\n",
       "    }\n",
       "</style>\n",
       "<table border=\"1\" class=\"dataframe\">\n",
       "  <thead>\n",
       "    <tr style=\"text-align: right;\">\n",
       "      <th></th>\n",
       "      <th>encounter_id</th>\n",
       "      <th>age</th>\n",
       "      <th>gender</th>\n",
       "      <th>sirs</th>\n",
       "      <th>cci</th>\n",
       "      <th>SOFA_icu_admision</th>\n",
       "      <th>sbp</th>\n",
       "      <th>dbp</th>\n",
       "      <th>mbp</th>\n",
       "      <th>temperature</th>\n",
       "      <th>...</th>\n",
       "      <th>hospital_death_flag</th>\n",
       "      <th>los_hospital</th>\n",
       "      <th>los_icu</th>\n",
       "      <th>ed_intime</th>\n",
       "      <th>ed_outtime</th>\n",
       "      <th>admission_location</th>\n",
       "      <th>icu_intime</th>\n",
       "      <th>icu_outtime</th>\n",
       "      <th>icustay_seq</th>\n",
       "      <th>sepsis3_diagnosis_time</th>\n",
       "    </tr>\n",
       "  </thead>\n",
       "  <tbody>\n",
       "    <tr>\n",
       "      <th>0</th>\n",
       "      <td>34332447</td>\n",
       "      <td>94.0</td>\n",
       "      <td>1.0</td>\n",
       "      <td>3</td>\n",
       "      <td>6.0</td>\n",
       "      <td>6.0</td>\n",
       "      <td>120.00</td>\n",
       "      <td>100.0</td>\n",
       "      <td>113.333333</td>\n",
       "      <td>36.222222</td>\n",
       "      <td>...</td>\n",
       "      <td>0.0</td>\n",
       "      <td>4</td>\n",
       "      <td>1.21</td>\n",
       "      <td>2134-06-18 09:45:00</td>\n",
       "      <td>2134-06-18 13:25:00</td>\n",
       "      <td>EMERGENCY ROOM</td>\n",
       "      <td>2134-06-18 13:25:00</td>\n",
       "      <td>2134-06-19 18:08:21</td>\n",
       "      <td>1</td>\n",
       "      <td>2134-06-18 14:00:00</td>\n",
       "    </tr>\n",
       "    <tr>\n",
       "      <th>1</th>\n",
       "      <td>31981707</td>\n",
       "      <td>94.0</td>\n",
       "      <td>0.0</td>\n",
       "      <td>0</td>\n",
       "      <td>9.0</td>\n",
       "      <td>9.0</td>\n",
       "      <td>137.00</td>\n",
       "      <td>69.0</td>\n",
       "      <td>114.333333</td>\n",
       "      <td>37.000000</td>\n",
       "      <td>...</td>\n",
       "      <td>0.0</td>\n",
       "      <td>29</td>\n",
       "      <td>11.00</td>\n",
       "      <td>2170-04-06 16:19:00</td>\n",
       "      <td>2170-04-06 20:07:00</td>\n",
       "      <td>EMERGENCY ROOM</td>\n",
       "      <td>2170-04-06 20:07:00</td>\n",
       "      <td>2170-04-17 20:28:50</td>\n",
       "      <td>1</td>\n",
       "      <td>2170-04-06 21:00:00</td>\n",
       "    </tr>\n",
       "    <tr>\n",
       "      <th>2</th>\n",
       "      <td>36935008</td>\n",
       "      <td>93.0</td>\n",
       "      <td>0.0</td>\n",
       "      <td>4</td>\n",
       "      <td>5.0</td>\n",
       "      <td>4.0</td>\n",
       "      <td>120.00</td>\n",
       "      <td>74.0</td>\n",
       "      <td>104.666667</td>\n",
       "      <td>39.833333</td>\n",
       "      <td>...</td>\n",
       "      <td>0.0</td>\n",
       "      <td>10</td>\n",
       "      <td>1.17</td>\n",
       "      <td>2152-07-24 09:04:00</td>\n",
       "      <td>2152-07-24 09:57:02</td>\n",
       "      <td>EMERGENCY ROOM</td>\n",
       "      <td>2152-07-24 09:57:02</td>\n",
       "      <td>2152-07-25 13:46:46</td>\n",
       "      <td>1</td>\n",
       "      <td>2152-07-24 12:00:00</td>\n",
       "    </tr>\n",
       "    <tr>\n",
       "      <th>3</th>\n",
       "      <td>30492683</td>\n",
       "      <td>93.0</td>\n",
       "      <td>1.0</td>\n",
       "      <td>4</td>\n",
       "      <td>7.0</td>\n",
       "      <td>7.0</td>\n",
       "      <td>137.61</td>\n",
       "      <td>76.5</td>\n",
       "      <td>117.240000</td>\n",
       "      <td>38.152778</td>\n",
       "      <td>...</td>\n",
       "      <td>0.0</td>\n",
       "      <td>6</td>\n",
       "      <td>2.21</td>\n",
       "      <td>2202-12-21 08:01:00</td>\n",
       "      <td>2202-12-21 12:37:00</td>\n",
       "      <td>EMERGENCY ROOM</td>\n",
       "      <td>2202-12-21 12:37:00</td>\n",
       "      <td>2202-12-23 17:56:47</td>\n",
       "      <td>1</td>\n",
       "      <td>2202-12-22 06:00:00</td>\n",
       "    </tr>\n",
       "    <tr>\n",
       "      <th>4</th>\n",
       "      <td>39334847</td>\n",
       "      <td>94.0</td>\n",
       "      <td>1.0</td>\n",
       "      <td>1</td>\n",
       "      <td>8.0</td>\n",
       "      <td>2.0</td>\n",
       "      <td>133.00</td>\n",
       "      <td>83.0</td>\n",
       "      <td>116.333333</td>\n",
       "      <td>35.000000</td>\n",
       "      <td>...</td>\n",
       "      <td>0.0</td>\n",
       "      <td>10</td>\n",
       "      <td>1.08</td>\n",
       "      <td>2195-05-29 17:56:00</td>\n",
       "      <td>2195-05-29 21:51:00</td>\n",
       "      <td>EMERGENCY ROOM</td>\n",
       "      <td>2195-05-29 21:51:00</td>\n",
       "      <td>2195-05-30 23:00:21</td>\n",
       "      <td>1</td>\n",
       "      <td>2195-05-30 02:00:00</td>\n",
       "    </tr>\n",
       "  </tbody>\n",
       "</table>\n",
       "<p>5 rows × 43 columns</p>\n",
       "</div>"
      ],
      "text/plain": [
       "   encounter_id   age  gender  sirs  cci  SOFA_icu_admision     sbp    dbp  \\\n",
       "0      34332447  94.0     1.0     3  6.0                6.0  120.00  100.0   \n",
       "1      31981707  94.0     0.0     0  9.0                9.0  137.00   69.0   \n",
       "2      36935008  93.0     0.0     4  5.0                4.0  120.00   74.0   \n",
       "3      30492683  93.0     1.0     4  7.0                7.0  137.61   76.5   \n",
       "4      39334847  94.0     1.0     1  8.0                2.0  133.00   83.0   \n",
       "\n",
       "          mbp  temperature  ...  hospital_death_flag  los_hospital  los_icu  \\\n",
       "0  113.333333    36.222222  ...                  0.0             4     1.21   \n",
       "1  114.333333    37.000000  ...                  0.0            29    11.00   \n",
       "2  104.666667    39.833333  ...                  0.0            10     1.17   \n",
       "3  117.240000    38.152778  ...                  0.0             6     2.21   \n",
       "4  116.333333    35.000000  ...                  0.0            10     1.08   \n",
       "\n",
       "             ed_intime           ed_outtime  admission_location  \\\n",
       "0  2134-06-18 09:45:00  2134-06-18 13:25:00      EMERGENCY ROOM   \n",
       "1  2170-04-06 16:19:00  2170-04-06 20:07:00      EMERGENCY ROOM   \n",
       "2  2152-07-24 09:04:00  2152-07-24 09:57:02      EMERGENCY ROOM   \n",
       "3  2202-12-21 08:01:00  2202-12-21 12:37:00      EMERGENCY ROOM   \n",
       "4  2195-05-29 17:56:00  2195-05-29 21:51:00      EMERGENCY ROOM   \n",
       "\n",
       "            icu_intime          icu_outtime  icustay_seq  \\\n",
       "0  2134-06-18 13:25:00  2134-06-19 18:08:21            1   \n",
       "1  2170-04-06 20:07:00  2170-04-17 20:28:50            1   \n",
       "2  2152-07-24 09:57:02  2152-07-25 13:46:46            1   \n",
       "3  2202-12-21 12:37:00  2202-12-23 17:56:47            1   \n",
       "4  2195-05-29 21:51:00  2195-05-30 23:00:21            1   \n",
       "\n",
       "   sepsis3_diagnosis_time  \n",
       "0     2134-06-18 14:00:00  \n",
       "1     2170-04-06 21:00:00  \n",
       "2     2152-07-24 12:00:00  \n",
       "3     2202-12-22 06:00:00  \n",
       "4     2195-05-30 02:00:00  \n",
       "\n",
       "[5 rows x 43 columns]"
      ]
     },
     "execution_count": 7,
     "metadata": {},
     "output_type": "execute_result"
    }
   ],
   "source": [
    "table = pd.read_csv('df.csv')\n",
    "table.head()"
   ]
  },
  {
   "cell_type": "code",
   "execution_count": 8,
   "metadata": {},
   "outputs": [],
   "source": [
    "ex = table[table.gender==1]\n",
    "non = table[table.gender==0]"
   ]
  },
  {
   "cell_type": "code",
   "execution_count": 9,
   "metadata": {},
   "outputs": [],
   "source": [
    "a = ex['age']\n",
    "b = non['age']"
   ]
  },
  {
   "cell_type": "code",
   "execution_count": 15,
   "metadata": {},
   "outputs": [
    {
     "data": {
      "text/plain": [
       "0.0011848004199853258"
      ]
     },
     "execution_count": 15,
     "metadata": {},
     "output_type": "execute_result"
    }
   ],
   "source": [
    "stats.ttest_ind(a,b).pvalue"
   ]
  },
  {
   "cell_type": "code",
   "execution_count": 19,
   "metadata": {},
   "outputs": [
    {
     "name": "stdout",
     "output_type": "stream",
     "text": [
      "p値 　　　= 0.000\n"
     ]
    }
   ],
   "source": [
    "A1 = len(ex[ex['gender'] == 1])\n",
    "A2 = len(ex) - A1\n",
    "B1 = len(non[non['gender'] == 1])\n",
    "B2 = len(non) - B1\n",
    "A = pd.DataFrame({'Yes':A1,'No':A2,},index=['Q1'])\n",
    "B = pd.DataFrame({'Yes':B1,'No':B2,},index=['Q2'])\n",
    "cat = pd.concat([A,B])\n",
    "\n",
    "p = stats.chi2_contingency(cat,correction=False).pvalue\n",
    "print(f'p値 　　　= {p :.3f}')"
   ]
  },
  {
   "cell_type": "code",
   "execution_count": null,
   "metadata": {},
   "outputs": [],
   "source": []
  }
 ],
 "metadata": {
  "kernelspec": {
   "display_name": "Python 3.8.8",
   "language": "python",
   "name": "python3"
  },
  "language_info": {
   "codemirror_mode": {
    "name": "ipython",
    "version": 3
   },
   "file_extension": ".py",
   "mimetype": "text/x-python",
   "name": "python",
   "nbconvert_exporter": "python",
   "pygments_lexer": "ipython3",
   "version": "3.8.8"
  },
  "orig_nbformat": 4,
  "vscode": {
   "interpreter": {
    "hash": "c28f7f21dde36c3d6fc445ffaf236b9e810964dbe269c21a46dccfd0b9ee6d24"
   }
  }
 },
 "nbformat": 4,
 "nbformat_minor": 2
}
